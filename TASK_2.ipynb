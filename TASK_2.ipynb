{
  "nbformat": 4,
  "nbformat_minor": 0,
  "metadata": {
    "colab": {
      "name": "TASK 2.ipynb",
      "provenance": [],
      "include_colab_link": true
    },
    "kernelspec": {
      "name": "python3",
      "display_name": "Python 3"
    },
    "language_info": {
      "name": "python"
    }
  },
  "cells": [
    {
      "cell_type": "markdown",
      "metadata": {
        "id": "view-in-github",
        "colab_type": "text"
      },
      "source": [
        "<a href=\"https://colab.research.google.com/github/jouharmahroof/LEARN.PY/blob/main/TASK_2.ipynb\" target=\"_parent\"><img src=\"https://colab.research.google.com/assets/colab-badge.svg\" alt=\"Open In Colab\"/></a>"
      ]
    },
    {
      "cell_type": "markdown",
      "metadata": {
        "id": "LsC-2SdxAo8v"
      },
      "source": [
        "1 ) Consider i = 2, Write a program to convert i to float. \n",
        "---\n",
        "\n",
        "    (Expected Output = 2.0 )\n"
      ]
    },
    {
      "cell_type": "code",
      "metadata": {
        "id": "g2RU9n3WcH58",
        "colab": {
          "base_uri": "https://localhost:8080/"
        },
        "outputId": "cde846bc-4ac6-4ca2-d86a-cf875c4e16ef"
      },
      "source": [
        "i = 2\n",
        "d = .0\n",
        "print(float(i))"
      ],
      "execution_count": 14,
      "outputs": [
        {
          "output_type": "stream",
          "text": [
            "2.0\n"
          ],
          "name": "stdout"
        }
      ]
    },
    {
      "cell_type": "markdown",
      "metadata": {
        "id": "w5XXklMpCZna"
      },
      "source": [
        "2 )Consider x=\"Hello\" and y=\"World\" , then write a program to concatinate the strings to a single string and print the result.\n",
        "            \n",
        "            \n",
        "            \n",
        "            \n",
        "          ( Expected output = Hello World )"
      ]
    },
    {
      "cell_type": "code",
      "metadata": {
        "id": "0AGE6bymhcfx",
        "colab": {
          "base_uri": "https://localhost:8080/"
        },
        "outputId": "80c4c394-6cb2-4e05-8a2b-36910902c73f"
      },
      "source": [
        "x = \"hello \"\n",
        "y = \"world\"\n",
        "print(x+y)\n"
      ],
      "execution_count": null,
      "outputs": [
        {
          "output_type": "stream",
          "text": [
            "hello world\n"
          ],
          "name": "stdout"
        }
      ]
    },
    {
      "cell_type": "markdown",
      "metadata": {
        "id": "tnp5Z3JyD7iO"
      },
      "source": [
        "3 ) Consider pi = 3.14 . print the value of pie and its type."
      ]
    },
    {
      "cell_type": "code",
      "metadata": {
        "id": "Wq6WVlzZtNLh",
        "outputId": "3c147f9d-dedc-417f-ea8c-f01a6edc2392",
        "colab": {
          "base_uri": "https://localhost:8080/"
        }
      },
      "source": [
        "pi = 3.14\n",
        "print(pi)\n",
        "print(type (pi))\n",
        "\n"
      ],
      "execution_count": 33,
      "outputs": [
        {
          "output_type": "stream",
          "text": [
            "3.14\n",
            "<class 'float'>\n"
          ],
          "name": "stdout"
        }
      ]
    }
  ]
}