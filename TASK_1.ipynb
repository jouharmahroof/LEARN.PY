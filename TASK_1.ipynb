{
  "nbformat": 4,
  "nbformat_minor": 0,
  "metadata": {
    "colab": {
      "name": "TASK 1.ipynb",
      "provenance": [],
      "authorship_tag": "ABX9TyOMemHMbZAqVdhua+WdyDjJ",
      "include_colab_link": true
    },
    "kernelspec": {
      "name": "python3",
      "display_name": "Python 3"
    },
    "language_info": {
      "name": "python"
    }
  },
  "cells": [
    {
      "cell_type": "markdown",
      "metadata": {
        "id": "view-in-github",
        "colab_type": "text"
      },
      "source": [
        "<a href=\"https://colab.research.google.com/github/jouharmahroof/LEARN.PY/blob/main/TASK_1.ipynb\" target=\"_parent\"><img src=\"https://colab.research.google.com/assets/colab-badge.svg\" alt=\"Open In Colab\"/></a>"
      ]
    },
    {
      "cell_type": "code",
      "metadata": {
        "id": "CX5xIfmk7rNp"
      },
      "source": [
        "1.Write a program that uses input to prompt a user for their name and then welcomes them."
      ],
      "execution_count": null,
      "outputs": []
    },
    {
      "cell_type": "code",
      "metadata": {
        "colab": {
          "base_uri": "https://localhost:8080/"
        },
        "id": "V_N7iQpz8Ayg",
        "outputId": "2dcab417-852c-49d2-f990-150dc623f795"
      },
      "source": [
        "name= input('enter your name')\n",
        "print ('welcome',name)\n"
      ],
      "execution_count": 5,
      "outputs": [
        {
          "output_type": "stream",
          "text": [
            "enter your namejouharmahroof\n",
            "welcome jouharmahroof\n"
          ],
          "name": "stdout"
        }
      ]
    },
    {
      "cell_type": "markdown",
      "metadata": {
        "id": "oTX23LckR1sp"
      },
      "source": [
        "2.Write a program which prompts the user for a Celsius temperature, convert the temperature to Fahrenheit, and print out the converted temperature."
      ]
    },
    {
      "cell_type": "code",
      "metadata": {
        "colab": {
          "base_uri": "https://localhost:8080/"
        },
        "id": "mPGvCTpbSGI6",
        "outputId": "604e90cb-dbed-4e06-d338-b8d71c892288"
      },
      "source": [
        "#please provide your answer here below this line\n",
        "a = float(input('enter the celcious'))\n",
        "d = 1.8*a+32\n",
        "print('fahrenheit temmperature=',d)"
      ],
      "execution_count": 7,
      "outputs": [
        {
          "output_type": "stream",
          "text": [
            "enter the celcious37\n",
            "fahrenheit temmperature= 98.60000000000001\n"
          ],
          "name": "stdout"
        }
      ]
    },
    {
      "cell_type": "markdown",
      "metadata": {
        "id": "VJx5WBsdT_eB"
      },
      "source": [
        "3.Write a Python program to convert degree to radian."
      ]
    },
    {
      "cell_type": "code",
      "metadata": {
        "colab": {
          "base_uri": "https://localhost:8080/"
        },
        "id": "mMd_3G1-UNFP",
        "outputId": "adfd1e6f-f497-4fad-8cb8-06877bf7385e"
      },
      "source": [
        "a = float(input('enter the  degrees'))\n",
        "d = 3.14\n",
        "r = (d/180)*a\n",
        "print('radian=',r)"
      ],
      "execution_count": 9,
      "outputs": [
        {
          "output_type": "stream",
          "text": [
            "enter the  degrees180\n",
            "radian= 3.1400000000000006\n"
          ],
          "name": "stdout"
        }
      ]
    }
  ]
}